{
 "cells": [
  {
   "cell_type": "code",
   "execution_count": 1,
   "id": "358b2892",
   "metadata": {},
   "outputs": [],
   "source": [
    "def  insertion_sort(dizi):\n",
    "    for i in range(1,len(dizi)):\n",
    "        key= dizi[i]\n",
    "        j=i-1\n",
    "        \n",
    "        while j>=0 and key<dizi[j]:\n",
    "            dizi[j+1] =dizi[j]\n",
    "            j=j-1\n",
    "        dizi[j+1]=key"
   ]
  },
  {
   "cell_type": "code",
   "execution_count": 4,
   "id": "99051614",
   "metadata": {},
   "outputs": [
    {
     "name": "stdout",
     "output_type": "stream",
     "text": [
      "[0, 3, 5, 6, 7, 8, 9, 34, 43, 74, 975]\n"
     ]
    }
   ],
   "source": [
    "sayilarim=[3,5,6,8,9,0,7,34,43,74,975]\n",
    "insertion_sort(sayilarim)\n",
    "print(sayilarim)"
   ]
  },
  {
   "cell_type": "code",
   "execution_count": null,
   "id": "3b76e91c",
   "metadata": {},
   "outputs": [],
   "source": []
  }
 ],
 "metadata": {
  "kernelspec": {
   "display_name": "Python 3",
   "language": "python",
   "name": "python3"
  },
  "language_info": {
   "codemirror_mode": {
    "name": "ipython",
    "version": 3
   },
   "file_extension": ".py",
   "mimetype": "text/x-python",
   "name": "python",
   "nbconvert_exporter": "python",
   "pygments_lexer": "ipython3",
   "version": "3.8.8"
  }
 },
 "nbformat": 4,
 "nbformat_minor": 5
}
